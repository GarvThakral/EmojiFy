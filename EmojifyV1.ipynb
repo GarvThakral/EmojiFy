{
 "cells": [
  {
   "cell_type": "code",
   "execution_count": 281,
   "id": "8c3762db-7913-4a5d-b366-aa66dab483b1",
   "metadata": {},
   "outputs": [],
   "source": [
    "import pandas as pd\n",
    "import numpy as np"
   ]
  },
  {
   "cell_type": "code",
   "execution_count": 282,
   "id": "be67be33-5538-466a-a756-ce153b1649ec",
   "metadata": {},
   "outputs": [],
   "source": [
    "with open(\"datass/Files/glove.6B.50d.txt\", 'r', encoding=\"utf-8\") as f:\n",
    "    word_to_vec_map = {}\n",
    "    for line in f:\n",
    "        values = line.split()\n",
    "        word = values[0]\n",
    "        vector = np.asarray(values[1:], dtype='float32')\n",
    "        word_to_vec_map[word] = vector"
   ]
  },
  {
   "cell_type": "code",
   "execution_count": 283,
   "id": "3f6ad59c-78d2-4db0-b2cf-080bc4a387a7",
   "metadata": {},
   "outputs": [],
   "source": [
    "train_data = pd.read_csv('datass/Files/train_emoji.csv')\n",
    "test_data = pd.read_csv('datass/Files/tesss.csv')"
   ]
  },
  {
   "cell_type": "code",
   "execution_count": 284,
   "id": "23397f8b-71bd-4fe1-a7e0-e99128accea1",
   "metadata": {},
   "outputs": [],
   "source": [
    "X_test = test_data['I want to eat\\t'].map(lambda x:x.replace(\"\\t\",\"\"))\n",
    "y_test = test_data['4']"
   ]
  },
  {
   "cell_type": "code",
   "execution_count": 285,
   "id": "31eb3cb7-0a11-4466-8c75-c6fbfaf1c114",
   "metadata": {},
   "outputs": [
    {
     "name": "stdout",
     "output_type": "stream",
     "text": [
      " The sentence : he did not answer , The emoji : 😔\n",
      " The sentence : he got a very nice raise , The emoji : 😀\n",
      " The sentence : she got me a nice present , The emoji : 😀\n",
      " The sentence : ha ha ha it was so funny , The emoji : 😀\n",
      " The sentence : he is a good friend , The emoji : 😀\n"
     ]
    }
   ],
   "source": [
    "for i in range(5):\n",
    "    print(f\" The sentence : {X_test[i]} , The emoji : {label_to_emoji[y_test[i]]}\") "
   ]
  },
  {
   "cell_type": "code",
   "execution_count": 286,
   "id": "df60ff88-c072-4606-a5ce-2e2aa3bcdb67",
   "metadata": {},
   "outputs": [
    {
     "name": "stdout",
     "output_type": "stream",
     "text": [
      "(55,)\n",
      "(55,)\n"
     ]
    }
   ],
   "source": [
    "print(y_test.shape)\n",
    "print(X_test.shape)"
   ]
  },
  {
   "cell_type": "code",
   "execution_count": 287,
   "id": "95d792f8-5961-4157-9749-aa3566791596",
   "metadata": {},
   "outputs": [
    {
     "name": "stderr",
     "output_type": "stream",
     "text": [
      "/tmp/ipykernel_100980/3497168708.py:3: SettingWithCopyWarning: \n",
      "A value is trying to be set on a copy of a slice from a DataFrame\n",
      "\n",
      "See the caveats in the documentation: https://pandas.pydata.org/pandas-docs/stable/user_guide/indexing.html#returning-a-view-versus-a-copy\n",
      "  X_train[131] = 'never talk to me again'\n",
      "/tmp/ipykernel_100980/3497168708.py:4: SettingWithCopyWarning: \n",
      "A value is trying to be set on a copy of a slice from a DataFrame\n",
      "\n",
      "See the caveats in the documentation: https://pandas.pydata.org/pandas-docs/stable/user_guide/indexing.html#returning-a-view-versus-a-copy\n",
      "  y_train[131] = 3\n"
     ]
    }
   ],
   "source": [
    "X_train = train_data['never talk to me again']\n",
    "y_train = train_data['3']\n",
    "X_train[131] = 'never talk to me again'\n",
    "y_train[131] = 3"
   ]
  },
  {
   "cell_type": "code",
   "execution_count": 288,
   "id": "f1217edb-175c-4c74-a576-a966c780b70b",
   "metadata": {},
   "outputs": [
    {
     "name": "stdout",
     "output_type": "stream",
     "text": [
      "(132,)\n"
     ]
    },
    {
     "data": {
      "text/plain": [
       "(132,)"
      ]
     },
     "execution_count": 288,
     "metadata": {},
     "output_type": "execute_result"
    }
   ],
   "source": [
    "print(X_train.shape)\n",
    "y_train.shape"
   ]
  },
  {
   "cell_type": "code",
   "execution_count": 289,
   "id": "830486ff-bbe9-46bc-b977-406971a408f8",
   "metadata": {},
   "outputs": [],
   "source": [
    "label_to_emoji = {0:\"❤️\",1:\"⚾\",2:\"😀\",3:\"😔\",4:\"🍴\"}"
   ]
  },
  {
   "cell_type": "code",
   "execution_count": 291,
   "id": "55a9f24d-2429-4e8b-8a9a-0d91e3004620",
   "metadata": {},
   "outputs": [
    {
     "name": "stdout",
     "output_type": "stream",
     "text": [
      "I am proud of your achievements\n",
      "2\n",
      "It is the worst day in my life\n",
      "3\n",
      "Miss you so much\n",
      "0\n",
      "food is life\n",
      "4\n",
      "I love you mum\n",
      "0\n"
     ]
    }
   ],
   "source": [
    "# BASIC EDA\n",
    "# What the data looks like\n",
    "for i in range(5):\n",
    "    print(X_train[i])\n",
    "    print(y_train[i])"
   ]
  },
  {
   "cell_type": "code",
   "execution_count": 292,
   "id": "7ce9425c-e7d7-4b22-ad85-80fbcca5a744",
   "metadata": {},
   "outputs": [
    {
     "name": "stdout",
     "output_type": "stream",
     "text": [
      " The sentence : I am proud of your achievements , The emoji : 😀\n",
      " The sentence : It is the worst day in my life , The emoji : 😔\n",
      " The sentence : Miss you so much , The emoji : ❤️\n",
      " The sentence : food is life , The emoji : 🍴\n",
      " The sentence : I love you mum , The emoji : ❤️\n"
     ]
    }
   ],
   "source": [
    "# Emoji-Sentence pairs\n",
    "for i in range(5):\n",
    "    print(f\" The sentence : {X_train[i]} , The emoji : {label_to_emoji[y_train[i]]}\") "
   ]
  },
  {
   "cell_type": "code",
   "execution_count": 293,
   "id": "eb01347d-e523-420c-98ee-0b498bbd778a",
   "metadata": {},
   "outputs": [
    {
     "data": {
      "text/plain": [
       "array([2, 3, 0, 4, 1])"
      ]
     },
     "execution_count": 293,
     "metadata": {},
     "output_type": "execute_result"
    }
   ],
   "source": [
    "# Number of unique values \n",
    "pd.unique(y_train)"
   ]
  },
  {
   "cell_type": "code",
   "execution_count": 294,
   "id": "ecafdf7f-2abb-4464-90e8-4821f00be764",
   "metadata": {},
   "outputs": [
    {
     "data": {
      "text/plain": [
       "[22, 19, 38, 36, 17]"
      ]
     },
     "execution_count": 294,
     "metadata": {},
     "output_type": "execute_result"
    }
   ],
   "source": [
    "# Distribution\n",
    "class_dist = [0]*5\n",
    "for i in y_train:\n",
    "    class_dist[i]+=1\n",
    "class_dist"
   ]
  },
  {
   "cell_type": "code",
   "execution_count": 295,
   "id": "9a064b6a-1a02-4ea7-96bd-296c09f0f743",
   "metadata": {},
   "outputs": [
    {
     "data": {
      "text/plain": [
       "10"
      ]
     },
     "execution_count": 295,
     "metadata": {},
     "output_type": "execute_result"
    }
   ],
   "source": [
    "# Max length of a sentence\n",
    "maxLen = 0\n",
    "for i in range(len(X_train)):\n",
    "    maxLen = max(maxLen,len(X_train[i].split()))\n",
    "maxLen"
   ]
  },
  {
   "cell_type": "code",
   "execution_count": 296,
   "id": "75fb8df9-4597-4885-8711-70c889f85820",
   "metadata": {},
   "outputs": [
    {
     "data": {
      "text/plain": [
       "array([ 0.00563117,  0.59711333, -0.13939716, -0.38432499,  0.74846166,\n",
       "       -0.34453833, -0.09402834,  0.13647616, -0.27890999,  0.07412743,\n",
       "       -0.05458783,  0.26998334, -0.40014283, -0.29957134,  0.50517549,\n",
       "        0.13981333,  0.06849916,  0.53107068,  0.07820434, -0.29929733,\n",
       "       -0.27029932,  0.49722101,  0.24299683,  0.03004166,  0.92919667,\n",
       "       -1.64110001, -1.13771501,  0.00513   ,  0.45910502, -0.29221168,\n",
       "        2.87481666,  0.687305  , -0.307625  , -0.16341315, -0.28182249,\n",
       "       -0.1250206 ,  0.139661  ,  0.34585901, -0.04596499, -0.33912099,\n",
       "       -0.02768405, -0.36635967, -0.164233  ,  0.32527532, -0.164843  ,\n",
       "        0.216988  , -0.32414001, -0.06701233, -0.025773  ,  0.32180167])"
      ]
     },
     "execution_count": 296,
     "metadata": {},
     "output_type": "execute_result"
    }
   ],
   "source": [
    "# Sentence to average\n",
    "# Every sentence is split up into words , embeddings of the words are generated with glove6b_50 and averaged\n",
    "def sentence_to_emb(sentence):\n",
    "    X = sentence.lower().split()\n",
    "    X = [word_to_vec_map[x] for x in X]\n",
    "    avg = np.zeros((50,))\n",
    "    for x in X:\n",
    "        avg+=x\n",
    "    avg = avg/len(sentence.split())\n",
    "    return avg\n",
    "sentence_to_emb(X_train[0])"
   ]
  },
  {
   "cell_type": "code",
   "execution_count": 297,
   "id": "8e050d92-5aed-462d-a62f-77dd6e7db513",
   "metadata": {},
   "outputs": [],
   "source": [
    "def convert_to_one_hot(Y):\n",
    "    one_hotted = []\n",
    "    for i in Y:\n",
    "        temp = [0]*5\n",
    "        temp[i]+=1\n",
    "        one_hotted.append(temp)\n",
    "    return one_hotted\n",
    "Y_oh = convert_to_one_hot(y_train)\n",
    "Y_oh_test = convert_to_one_hot(y_test)"
   ]
  },
  {
   "cell_type": "code",
   "execution_count": 298,
   "id": "63eb65da-bc24-436f-a475-e2e353cb4b53",
   "metadata": {},
   "outputs": [],
   "source": [
    "def model(X_train, y_train, learning_rate=0.01, epochs=500):\n",
    "    W = np.random.randn(5, 50) / np.sqrt(50)\n",
    "    b = np.zeros((5,))\n",
    "    for epoch in range(1, epochs):\n",
    "        cost = 0\n",
    "        for i in range(len(X_train)):\n",
    "            avg = sentence_to_emb(X_train[i])\n",
    "            Z = np.dot(W, avg) + b\n",
    "            expZ = np.exp(Z - np.max(Z)) \n",
    "            a = expZ / np.sum(expZ)\n",
    "            cost += -(np.sum(y_train[i] * np.log(a)))\n",
    "            \n",
    "            dz = a - y_train[i]\n",
    "            dW = np.dot(dz.reshape(5,1), avg.reshape(1, 50))  # Remove +=, use =\n",
    "            db = dz \n",
    "            \n",
    "            W = W - learning_rate * dW\n",
    "            b = b - learning_rate * db\n",
    "        if(epoch % 10 == 0):\n",
    "            print(f\"epoch {epoch} : cost {cost}\")\n",
    "    return W, b"
   ]
  },
  {
   "cell_type": "code",
   "execution_count": 299,
   "id": "4e34cf5e-5927-464b-b394-722ed43133cf",
   "metadata": {},
   "outputs": [
    {
     "name": "stdout",
     "output_type": "stream",
     "text": [
      "epoch 10 : cost 129.2924046693849\n",
      "epoch 20 : cost 101.70863817739952\n",
      "epoch 30 : cost 87.41245576614544\n",
      "epoch 40 : cost 78.08913407967702\n",
      "epoch 50 : cost 71.298680783791\n",
      "epoch 60 : cost 66.03268798332354\n",
      "epoch 70 : cost 61.783342438152744\n",
      "epoch 80 : cost 58.25917355598309\n",
      "epoch 90 : cost 55.276399349740096\n",
      "epoch 100 : cost 52.71095396252136\n",
      "epoch 110 : cost 50.47496095377808\n",
      "epoch 120 : cost 48.50405378250676\n",
      "epoch 130 : cost 46.74990961988325\n",
      "epoch 140 : cost 45.175525994086094\n",
      "epoch 150 : cost 43.75208160388131\n",
      "epoch 160 : cost 42.45678235337999\n",
      "epoch 170 : cost 41.271350111727365\n",
      "epoch 180 : cost 40.18094321818775\n",
      "epoch 190 : cost 39.17337287174366\n",
      "epoch 200 : cost 38.23852563501444\n",
      "epoch 210 : cost 37.36793169123422\n",
      "epoch 220 : cost 36.55443766959714\n",
      "epoch 230 : cost 35.79195554614111\n",
      "epoch 240 : cost 35.075267637048256\n",
      "epoch 250 : cost 34.399873480122395\n",
      "epoch 260 : cost 33.761868375397384\n",
      "epoch 270 : cost 33.157846125630655\n",
      "epoch 280 : cost 32.58482047185933\n",
      "epoch 290 : cost 32.04016111523485\n",
      "epoch 300 : cost 31.52154122531784\n",
      "epoch 310 : cost 31.026894072445202\n",
      "epoch 320 : cost 30.554376966525034\n",
      "epoch 330 : cost 30.102341091117164\n",
      "epoch 340 : cost 29.66930612792246\n",
      "epoch 350 : cost 29.253938799664635\n",
      "epoch 360 : cost 28.855034637934207\n",
      "epoch 370 : cost 28.47150242065382\n",
      "epoch 380 : cost 28.102350831435583\n",
      "epoch 390 : cost 27.746676977585437\n",
      "epoch 400 : cost 27.40365647029986\n",
      "epoch 410 : cost 27.072534823761096\n",
      "epoch 420 : cost 26.752619972411406\n",
      "epoch 430 : cost 26.443275739993208\n",
      "epoch 440 : cost 26.143916121738854\n",
      "epoch 450 : cost 25.85400026374194\n",
      "epoch 460 : cost 25.573028042084584\n",
      "epoch 470 : cost 25.300536159555392\n",
      "epoch 480 : cost 25.036094690403683\n",
      "epoch 490 : cost 24.77930401404574\n"
     ]
    }
   ],
   "source": [
    "W, b = model(X_train,Y_oh)"
   ]
  },
  {
   "cell_type": "code",
   "execution_count": 300,
   "id": "057c5c92-490d-457d-a068-7c02ef946753",
   "metadata": {},
   "outputs": [],
   "source": [
    "def predict(sentence , W , b):\n",
    "    avg = sentence_to_emb(sentence)\n",
    "    Z = np.dot(W,avg) + b\n",
    "    expZ = np.exp(Z - np.max(Z)) \n",
    "    a = expZ / np.sum(expZ)\n",
    "    a = np.argmax(a)\n",
    "    return a"
   ]
  },
  {
   "cell_type": "code",
   "execution_count": 301,
   "id": "cf428420-7a62-4edc-837f-f7f77a61af2a",
   "metadata": {},
   "outputs": [],
   "source": [
    "def evaluate(X_test , y_test , W , b ):\n",
    "    accurate = 0\n",
    "    for i in range(len(X_test)):\n",
    "        y_pred = predict(X_test[i], W , b)\n",
    "        \n",
    "        if(y_test[i][y_pred] == 1):\n",
    "            accurate+=1\n",
    "    return f\"{(accurate/len(X_test))*100}% accuracy on the test set\""
   ]
  },
  {
   "cell_type": "code",
   "execution_count": 302,
   "id": "30b4aaea-d22a-4744-afb6-8c9ee975e8d6",
   "metadata": {},
   "outputs": [
    {
     "data": {
      "text/plain": [
       "'89.0909090909091% accuracy on the test set'"
      ]
     },
     "execution_count": 302,
     "metadata": {},
     "output_type": "execute_result"
    }
   ],
   "source": [
    "evaluate(X_test , Y_oh_test , W , b)"
   ]
  },
  {
   "cell_type": "code",
   "execution_count": 313,
   "id": "d2a6c79d-eaa3-45e7-822d-d6d7becf3b38",
   "metadata": {},
   "outputs": [
    {
     "data": {
      "text/plain": [
       "'😔'"
      ]
     },
     "execution_count": 313,
     "metadata": {},
     "output_type": "execute_result"
    }
   ],
   "source": [
    "label_to_emoji[predict(\"I love death\",W,b)]"
   ]
  }
 ],
 "metadata": {
  "kernelspec": {
   "display_name": "Python 3 (ipykernel)",
   "language": "python",
   "name": "python3"
  },
  "language_info": {
   "codemirror_mode": {
    "name": "ipython",
    "version": 3
   },
   "file_extension": ".py",
   "mimetype": "text/x-python",
   "name": "python",
   "nbconvert_exporter": "python",
   "pygments_lexer": "ipython3",
   "version": "3.12.2"
  }
 },
 "nbformat": 4,
 "nbformat_minor": 5
}
